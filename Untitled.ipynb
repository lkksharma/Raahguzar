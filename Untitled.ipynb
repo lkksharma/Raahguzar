{
 "cells": [
  {
   "cell_type": "code",
   "execution_count": 109,
   "id": "fccdffec-ddb9-48f0-a6ff-48f578e86cc0",
   "metadata": {},
   "outputs": [
    {
     "data": {
      "text/html": [
       "<div>\n",
       "<style scoped>\n",
       "    .dataframe tbody tr th:only-of-type {\n",
       "        vertical-align: middle;\n",
       "    }\n",
       "\n",
       "    .dataframe tbody tr th {\n",
       "        vertical-align: top;\n",
       "    }\n",
       "\n",
       "    .dataframe thead th {\n",
       "        text-align: right;\n",
       "    }\n",
       "</style>\n",
       "<table border=\"1\" class=\"dataframe\">\n",
       "  <thead>\n",
       "    <tr style=\"text-align: right;\">\n",
       "      <th></th>\n",
       "      <th>id</th>\n",
       "      <th>travelTimeSec</th>\n",
       "      <th>freeFlowTravelTimeSec</th>\n",
       "      <th>delaySec</th>\n",
       "      <th>usualDelaySec</th>\n",
       "      <th>stops</th>\n",
       "      <th>queueLengthMeters</th>\n",
       "      <th>isClosed</th>\n",
       "      <th>turnRatios</th>\n",
       "      <th>stopsHistogram</th>\n",
       "    </tr>\n",
       "  </thead>\n",
       "  <tbody>\n",
       "    <tr>\n",
       "      <th>0</th>\n",
       "      <td>-1497841953</td>\n",
       "      <td>25</td>\n",
       "      <td>25</td>\n",
       "      <td>0</td>\n",
       "      <td>0</td>\n",
       "      <td>0</td>\n",
       "      <td>0</td>\n",
       "      <td>True</td>\n",
       "      <td>[{'exitId': 2032081462, 'exitIndex': 2, 'ratio...</td>\n",
       "      <td>{'entries': [{'numberOfStops': 0, 'numberOfVeh...</td>\n",
       "    </tr>\n",
       "    <tr>\n",
       "      <th>1</th>\n",
       "      <td>-1562006886</td>\n",
       "      <td>85</td>\n",
       "      <td>85</td>\n",
       "      <td>0</td>\n",
       "      <td>-1</td>\n",
       "      <td>0</td>\n",
       "      <td>0</td>\n",
       "      <td>False</td>\n",
       "      <td>[{'exitId': -351401112, 'exitIndex': 0, 'ratio...</td>\n",
       "      <td>{'entries': [{'numberOfStops': 0, 'numberOfVeh...</td>\n",
       "    </tr>\n",
       "    <tr>\n",
       "      <th>2</th>\n",
       "      <td>-1616034860</td>\n",
       "      <td>25</td>\n",
       "      <td>25</td>\n",
       "      <td>0</td>\n",
       "      <td>-1</td>\n",
       "      <td>0</td>\n",
       "      <td>0</td>\n",
       "      <td>False</td>\n",
       "      <td>[{'exitId': -1536796200, 'exitIndex': 1, 'rati...</td>\n",
       "      <td>{'entries': [{'numberOfStops': 0, 'numberOfVeh...</td>\n",
       "    </tr>\n",
       "    <tr>\n",
       "      <th>3</th>\n",
       "      <td>1910548253</td>\n",
       "      <td>22</td>\n",
       "      <td>22</td>\n",
       "      <td>0</td>\n",
       "      <td>0</td>\n",
       "      <td>0</td>\n",
       "      <td>0</td>\n",
       "      <td>True</td>\n",
       "      <td>[{'exitId': -351401112, 'exitIndex': 0, 'ratio...</td>\n",
       "      <td>{'entries': [{'numberOfStops': 0, 'numberOfVeh...</td>\n",
       "    </tr>\n",
       "  </tbody>\n",
       "</table>\n",
       "</div>"
      ],
      "text/plain": [
       "           id  travelTimeSec  freeFlowTravelTimeSec  delaySec  usualDelaySec  \\\n",
       "0 -1497841953             25                     25         0              0   \n",
       "1 -1562006886             85                     85         0             -1   \n",
       "2 -1616034860             25                     25         0             -1   \n",
       "3  1910548253             22                     22         0              0   \n",
       "\n",
       "   stops  queueLengthMeters  isClosed  \\\n",
       "0      0                  0      True   \n",
       "1      0                  0     False   \n",
       "2      0                  0     False   \n",
       "3      0                  0      True   \n",
       "\n",
       "                                          turnRatios  \\\n",
       "0  [{'exitId': 2032081462, 'exitIndex': 2, 'ratio...   \n",
       "1  [{'exitId': -351401112, 'exitIndex': 0, 'ratio...   \n",
       "2  [{'exitId': -1536796200, 'exitIndex': 1, 'rati...   \n",
       "3  [{'exitId': -351401112, 'exitIndex': 0, 'ratio...   \n",
       "\n",
       "                                      stopsHistogram  \n",
       "0  {'entries': [{'numberOfStops': 0, 'numberOfVeh...  \n",
       "1  {'entries': [{'numberOfStops': 0, 'numberOfVeh...  \n",
       "2  {'entries': [{'numberOfStops': 0, 'numberOfVeh...  \n",
       "3  {'entries': [{'numberOfStops': 0, 'numberOfVeh...  "
      ]
     },
     "execution_count": 109,
     "metadata": {},
     "output_type": "execute_result"
    }
   ],
   "source": [
    "import pandas as pd\n",
    "df = pd.read_json('Untitled-1.json')\n",
    "df"
   ]
  },
  {
   "cell_type": "code",
   "execution_count": 111,
   "id": "c7078ed5-8b70-4c79-84ae-a7dab39eda8d",
   "metadata": {},
   "outputs": [
    {
     "data": {
      "text/plain": [
       "Index(['id', 'travelTimeSec', 'freeFlowTravelTimeSec', 'delaySec',\n",
       "       'usualDelaySec', 'stops', 'queueLengthMeters', 'isClosed', 'turnRatios',\n",
       "       'stopsHistogram'],\n",
       "      dtype='object')"
      ]
     },
     "execution_count": 111,
     "metadata": {},
     "output_type": "execute_result"
    }
   ],
   "source": [
    "df.columns\n"
   ]
  },
  {
   "cell_type": "code",
   "execution_count": 113,
   "id": "ddff9a6c-dffb-4f75-943c-757ebb6e3827",
   "metadata": {},
   "outputs": [
    {
     "ename": "AttributeError",
     "evalue": "'DataFrame' object has no attribute 'approachesLiveData'",
     "output_type": "error",
     "traceback": [
      "\u001b[0;31m---------------------------------------------------------------------------\u001b[0m",
      "\u001b[0;31mAttributeError\u001b[0m                            Traceback (most recent call last)",
      "\u001b[0;32m/var/folders/9p/34kjp0md5tv5sz77mfqf7y440000gn/T/ipykernel_73667/4269791038.py\u001b[0m in \u001b[0;36m?\u001b[0;34m()\u001b[0m\n\u001b[0;32m----> 1\u001b[0;31m \u001b[0mdf\u001b[0m\u001b[0;34m.\u001b[0m\u001b[0mapproachesLiveData\u001b[0m\u001b[0;34m[\u001b[0m\u001b[0;36m0\u001b[0m\u001b[0;34m]\u001b[0m\u001b[0;34m\u001b[0m\u001b[0;34m\u001b[0m\u001b[0m\n\u001b[0m",
      "\u001b[0;32m~/anaconda3/lib/python3.10/site-packages/pandas/core/generic.py\u001b[0m in \u001b[0;36m?\u001b[0;34m(self, name)\u001b[0m\n\u001b[1;32m   6295\u001b[0m             \u001b[0;32mand\u001b[0m \u001b[0mname\u001b[0m \u001b[0;32mnot\u001b[0m \u001b[0;32min\u001b[0m \u001b[0mself\u001b[0m\u001b[0;34m.\u001b[0m\u001b[0m_accessors\u001b[0m\u001b[0;34m\u001b[0m\u001b[0;34m\u001b[0m\u001b[0m\n\u001b[1;32m   6296\u001b[0m             \u001b[0;32mand\u001b[0m \u001b[0mself\u001b[0m\u001b[0;34m.\u001b[0m\u001b[0m_info_axis\u001b[0m\u001b[0;34m.\u001b[0m\u001b[0m_can_hold_identifiers_and_holds_name\u001b[0m\u001b[0;34m(\u001b[0m\u001b[0mname\u001b[0m\u001b[0;34m)\u001b[0m\u001b[0;34m\u001b[0m\u001b[0;34m\u001b[0m\u001b[0m\n\u001b[1;32m   6297\u001b[0m         ):\n\u001b[1;32m   6298\u001b[0m             \u001b[0;32mreturn\u001b[0m \u001b[0mself\u001b[0m\u001b[0;34m[\u001b[0m\u001b[0mname\u001b[0m\u001b[0;34m]\u001b[0m\u001b[0;34m\u001b[0m\u001b[0;34m\u001b[0m\u001b[0m\n\u001b[0;32m-> 6299\u001b[0;31m         \u001b[0;32mreturn\u001b[0m \u001b[0mobject\u001b[0m\u001b[0;34m.\u001b[0m\u001b[0m__getattribute__\u001b[0m\u001b[0;34m(\u001b[0m\u001b[0mself\u001b[0m\u001b[0;34m,\u001b[0m \u001b[0mname\u001b[0m\u001b[0;34m)\u001b[0m\u001b[0;34m\u001b[0m\u001b[0;34m\u001b[0m\u001b[0m\n\u001b[0m",
      "\u001b[0;31mAttributeError\u001b[0m: 'DataFrame' object has no attribute 'approachesLiveData'"
     ]
    }
   ],
   "source": [
    "df.approachesLiveData[0]"
   ]
  },
  {
   "cell_type": "code",
   "execution_count": 115,
   "id": "bdc8ee9f-5915-4c0c-b662-d86c68b79dbe",
   "metadata": {},
   "outputs": [
    {
     "data": {
      "text/plain": [
       "(4, 10)"
      ]
     },
     "execution_count": 115,
     "metadata": {},
     "output_type": "execute_result"
    }
   ],
   "source": [
    "df.shape"
   ]
  },
  {
   "cell_type": "code",
   "execution_count": 119,
   "id": "aeb1c993-c790-4ad8-a893-20d408cee5cd",
   "metadata": {},
   "outputs": [
    {
     "data": {
      "text/html": [
       "<div>\n",
       "<style scoped>\n",
       "    .dataframe tbody tr th:only-of-type {\n",
       "        vertical-align: middle;\n",
       "    }\n",
       "\n",
       "    .dataframe tbody tr th {\n",
       "        vertical-align: top;\n",
       "    }\n",
       "\n",
       "    .dataframe thead th {\n",
       "        text-align: right;\n",
       "    }\n",
       "</style>\n",
       "<table border=\"1\" class=\"dataframe\">\n",
       "  <thead>\n",
       "    <tr style=\"text-align: right;\">\n",
       "      <th></th>\n",
       "      <th>id</th>\n",
       "      <th>travelTimeSec</th>\n",
       "      <th>freeFlowTravelTimeSec</th>\n",
       "      <th>delaySec</th>\n",
       "      <th>usualDelaySec</th>\n",
       "      <th>stops</th>\n",
       "      <th>queueLengthMeters</th>\n",
       "      <th>isClosed</th>\n",
       "      <th>turnRatios</th>\n",
       "      <th>stopsHistogram</th>\n",
       "    </tr>\n",
       "  </thead>\n",
       "  <tbody>\n",
       "    <tr>\n",
       "      <th>0</th>\n",
       "      <td>-1497841953</td>\n",
       "      <td>25</td>\n",
       "      <td>25</td>\n",
       "      <td>0</td>\n",
       "      <td>0</td>\n",
       "      <td>0</td>\n",
       "      <td>0</td>\n",
       "      <td>True</td>\n",
       "      <td>[{'exitId': 2032081462, 'exitIndex': 2, 'ratio...</td>\n",
       "      <td>{'entries': [{'numberOfStops': 0, 'numberOfVeh...</td>\n",
       "    </tr>\n",
       "    <tr>\n",
       "      <th>1</th>\n",
       "      <td>-1562006886</td>\n",
       "      <td>85</td>\n",
       "      <td>85</td>\n",
       "      <td>0</td>\n",
       "      <td>-1</td>\n",
       "      <td>0</td>\n",
       "      <td>0</td>\n",
       "      <td>False</td>\n",
       "      <td>[{'exitId': -351401112, 'exitIndex': 0, 'ratio...</td>\n",
       "      <td>{'entries': [{'numberOfStops': 0, 'numberOfVeh...</td>\n",
       "    </tr>\n",
       "    <tr>\n",
       "      <th>2</th>\n",
       "      <td>-1616034860</td>\n",
       "      <td>25</td>\n",
       "      <td>25</td>\n",
       "      <td>0</td>\n",
       "      <td>-1</td>\n",
       "      <td>0</td>\n",
       "      <td>0</td>\n",
       "      <td>False</td>\n",
       "      <td>[{'exitId': -1536796200, 'exitIndex': 1, 'rati...</td>\n",
       "      <td>{'entries': [{'numberOfStops': 0, 'numberOfVeh...</td>\n",
       "    </tr>\n",
       "    <tr>\n",
       "      <th>3</th>\n",
       "      <td>1910548253</td>\n",
       "      <td>22</td>\n",
       "      <td>22</td>\n",
       "      <td>0</td>\n",
       "      <td>0</td>\n",
       "      <td>0</td>\n",
       "      <td>0</td>\n",
       "      <td>True</td>\n",
       "      <td>[{'exitId': -351401112, 'exitIndex': 0, 'ratio...</td>\n",
       "      <td>{'entries': [{'numberOfStops': 0, 'numberOfVeh...</td>\n",
       "    </tr>\n",
       "  </tbody>\n",
       "</table>\n",
       "</div>"
      ],
      "text/plain": [
       "           id  travelTimeSec  freeFlowTravelTimeSec  delaySec  usualDelaySec  \\\n",
       "0 -1497841953             25                     25         0              0   \n",
       "1 -1562006886             85                     85         0             -1   \n",
       "2 -1616034860             25                     25         0             -1   \n",
       "3  1910548253             22                     22         0              0   \n",
       "\n",
       "   stops  queueLengthMeters  isClosed  \\\n",
       "0      0                  0      True   \n",
       "1      0                  0     False   \n",
       "2      0                  0     False   \n",
       "3      0                  0      True   \n",
       "\n",
       "                                          turnRatios  \\\n",
       "0  [{'exitId': 2032081462, 'exitIndex': 2, 'ratio...   \n",
       "1  [{'exitId': -351401112, 'exitIndex': 0, 'ratio...   \n",
       "2  [{'exitId': -1536796200, 'exitIndex': 1, 'rati...   \n",
       "3  [{'exitId': -351401112, 'exitIndex': 0, 'ratio...   \n",
       "\n",
       "                                      stopsHistogram  \n",
       "0  {'entries': [{'numberOfStops': 0, 'numberOfVeh...  \n",
       "1  {'entries': [{'numberOfStops': 0, 'numberOfVeh...  \n",
       "2  {'entries': [{'numberOfStops': 0, 'numberOfVeh...  \n",
       "3  {'entries': [{'numberOfStops': 0, 'numberOfVeh...  "
      ]
     },
     "execution_count": 119,
     "metadata": {},
     "output_type": "execute_result"
    }
   ],
   "source": [
    "df"
   ]
  },
  {
   "cell_type": "code",
   "execution_count": null,
   "id": "da6eaa11-c685-41a0-8d6c-3cd09a7e4ed2",
   "metadata": {},
   "outputs": [],
   "source": []
  }
 ],
 "metadata": {
  "kernelspec": {
   "display_name": "Python 3 (ipykernel)",
   "language": "python",
   "name": "python3"
  },
  "language_info": {
   "codemirror_mode": {
    "name": "ipython",
    "version": 3
   },
   "file_extension": ".py",
   "mimetype": "text/x-python",
   "name": "python",
   "nbconvert_exporter": "python",
   "pygments_lexer": "ipython3",
   "version": "3.10.14"
  }
 },
 "nbformat": 4,
 "nbformat_minor": 5
}
